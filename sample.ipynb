{
 "cells": [
  {
   "cell_type": "code",
   "execution_count": 10,
   "metadata": {},
   "outputs": [],
   "source": [
    "import requests\n",
    "import os\n",
    "from xml.etree import ElementTree \n",
    "import pandas\n",
    "\n",
    "from typing import Dict\n",
    "from typing import Tuple\n",
    "from typing import Optional\n",
    "from typing import List\n",
    "\n",
    "\n",
    "host_name = \"www.deribit.com\"\n",
    "deribit_endpoint_v2 = f\"https://{host_name}/api/v2\"\n",
    "public_url = f\"{deribit_endpoint_v2}/public\"\n",
    "private_url = f\"{deribit_endpoint_v2}/private\"\n",
    "\n",
    "\n",
    "\n",
    "def authorize_with_credentials(client_id: str, client_secret: str) -> Tuple[Dict[str, str], str]:\n",
    "    print(f\"connecting with {client_id}\")\n",
    "    headers = {\"Content-Type\": \"application/json\"}\n",
    "    auth_params = {\n",
    "        \"client_id\": client_id,\n",
    "        \"client_secret\": client_secret,\n",
    "        \"grant_type\": \"client_credentials\"\n",
    "    }\n",
    "    authentication = requests.get(f\"{public_url}/auth\", params=auth_params, headers=headers).json()\n",
    "    headers[\"Authorization\"] = f\"Bearer {authentication['result']['access_token']}\"\n",
    "    refresh_token = authentication['result']['refresh_token']\n",
    "    return headers, refresh_token\n",
    "\n",
    "def authorize_refresh(refresh_token: str) -> Tuple[Dict[str, str], str]:\n",
    "    print(f\"refreshing authentication {refresh_token}\")\n",
    "    headers = {\"Content-Type\": \"application/json\"}\n",
    "    auth_params = {\n",
    "        \"refresh_token\": refresh_token,\n",
    "        \"grant_type\": \"refresh_token\"\n",
    "    }\n",
    "    authentication = requests.get(f\"{public_url}/auth\", params=auth_params, headers=headers).json()\n",
    "    headers[\"Authorization\"] = f\"Bearer {authentication['result']['access_token']}\"\n",
    "    new_refresh_token = authentication['result']['refresh_token']\n",
    "    return headers, new_refresh_token\n",
    "\n",
    "def run_get(target: str, params: Dict[str, str], headers: Dict[str, str], refresh_token: str=None) -> Optional[Tuple[Dict[str, str], str]]:\n",
    "    response = requests.get(target, params=params, headers=headers)\n",
    "    if response.status_code >= 399:\n",
    "        error = response.json()\n",
    "        if error['error']['code'] == 13009 and refresh_token:\n",
    "            # re-run authorization\n",
    "            new_headers, refresh_token = authorize_refresh(refresh_token)\n",
    "            response = requests.get(target, params, new_headers)\n",
    "        else:\n",
    "            return None\n",
    "\n",
    "    return response.json()['result'], headers, refresh_token\n",
    "\n",
    "\n",
    "class RowData:\n",
    "    def __init__(self, row: Dict[str, str]):\n",
    "        self._row = row\n",
    "\n",
    "    def __repr__(self):\n",
    "        return repr(self._row)\n",
    "\n",
    "\n",
    "def load_ib_xml_report(ib_token: str, ib_query_id: str) -> ElementTree:\n",
    "    ib_flex_url = f\"https://www.interactivebrokers.com/Universal/servlet/FlexStatementService.SendRequest?t={ib_token}&q={ib_query_id}&v=3\"\n",
    "    ib_response = requests.get(ib_flex_url)\n",
    "    ib_report_location = ElementTree.fromstring(ib_response.content)\n",
    "    ib_report_reference_code = ib_report_location.find('ReferenceCode').text\n",
    "    ib_report_base_url = ib_report_location.find('Url').text\n",
    "    ib_report_url = f\"{ib_report_base_url}?t={ib_token}&q={ib_report_reference_code}&v=3\"\n",
    "    ib_report = requests.get(ib_report_url)\n",
    "    return ElementTree.fromstring(ib_report.content)\n",
    "\n",
    "def check_report_error(report_tree: ElementTree) -> Optional[int]:\n",
    "    error_node = report_tree.find('.//ErrorCode')\n",
    "    if error_node:\n",
    "        return int(error_node.text)\n",
    "    \n",
    "    return None\n",
    "\n",
    "def make_ib_records(report_tree: ElementTree) -> List[RowData]:\n",
    "    ib_records = []\n",
    "    for position in report_tree.findall('.//OpenPosition'):\n",
    "        ib_records.append(RowData(position.attrib))\n",
    "    return ib_records\n"
   ]
  },
  {
   "cell_type": "code",
   "execution_count": null,
   "metadata": {},
   "outputs": [],
   "source": [
    "\n",
    "headers, refresh_token = authorize_with_credentials(client_id=os.getenv(\"DERIBIT_CLIENT_ID\"), client_secret=os.getenv(\"DERIBIT_CLIENT_SECRET\"))\n",
    "\n",
    "account_summary_deribit = {}\n",
    "for currency in (\"BTC\", \"ETH\", \"USDT\", \"USDC\"):\n",
    "    account_summary_params = {\"currency\": currency}\n",
    "    result, headers, refresh_token = run_get(f\"{private_url}/get_account_summary\", params=account_summary_params, headers=headers, refresh_token=refresh_token)\n",
    "    account_summary_deribit[currency] = result\n",
    "\n",
    "account_summary_deribit\n"
   ]
  },
  {
   "cell_type": "code",
   "execution_count": 4,
   "metadata": {},
   "outputs": [
    {
     "data": {
      "text/html": [
       "<div>\n",
       "<style scoped>\n",
       "    .dataframe tbody tr th:only-of-type {\n",
       "        vertical-align: middle;\n",
       "    }\n",
       "\n",
       "    .dataframe tbody tr th {\n",
       "        vertical-align: top;\n",
       "    }\n",
       "\n",
       "    .dataframe thead th {\n",
       "        text-align: right;\n",
       "    }\n",
       "</style>\n",
       "<table border=\"1\" class=\"dataframe\">\n",
       "  <thead>\n",
       "    <tr style=\"text-align: right;\">\n",
       "      <th></th>\n",
       "    </tr>\n",
       "  </thead>\n",
       "  <tbody>\n",
       "  </tbody>\n",
       "</table>\n",
       "</div>"
      ],
      "text/plain": [
       "Empty DataFrame\n",
       "Columns: []\n",
       "Index: []"
      ]
     },
     "execution_count": 4,
     "metadata": {},
     "output_type": "execute_result"
    }
   ],
   "source": [
    "ib_token = os.getenv(\"IB_FLEX_REPORT_TOKEN\")\n",
    "ib_query_id = os.getenv(\"IB_FLEX_QUERY_ID\")\n",
    "ib_report = load_ib_xml_report(ib_token, ib_query_id)\n",
    "error = check_report_error(ib_report)\n",
    "if error:\n",
    "    print(f'report in error: {error}, try again later')\n",
    "    raise ValueError(f'report in error: {error}, try again later')\n",
    "ib_positions = make_ib_records(ib_report)\n",
    "pandas.DataFrame(ib_positions)\n"
   ]
  },
  {
   "cell_type": "code",
   "execution_count": 12,
   "metadata": {},
   "outputs": [
    {
     "data": {
      "text/plain": [
       "'1019'"
      ]
     },
     "execution_count": 12,
     "metadata": {},
     "output_type": "execute_result"
    }
   ],
   "source": [
    "ElementTree.tostring(ib_report)\n",
    "ib_report.find('.//ErrorCode').text\n"
   ]
  }
 ],
 "metadata": {
  "kernelspec": {
   "display_name": "Python 3",
   "language": "python",
   "name": "python3"
  },
  "language_info": {
   "codemirror_mode": {
    "name": "ipython",
    "version": 3
   },
   "file_extension": ".py",
   "mimetype": "text/x-python",
   "name": "python",
   "nbconvert_exporter": "python",
   "pygments_lexer": "ipython3",
   "version": "3.10.13"
  }
 },
 "nbformat": 4,
 "nbformat_minor": 2
}
