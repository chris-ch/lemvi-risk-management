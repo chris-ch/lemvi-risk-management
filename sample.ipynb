{
 "cells": [
  {
   "cell_type": "code",
   "execution_count": 1,
   "metadata": {},
   "outputs": [
    {
     "name": "stdout",
     "output_type": "stream",
     "text": [
      "connecting with hYDBOsB8\n",
      "{\"jsonrpc\":\"2.0\",\"error\":{\"message\":\"invalid_credentials\",\"code\":13004},\"testnet\":false,\"usIn\":1704457688245702,\"usOut\":1704457688245792,\"usDiff\":90}\n"
     ]
    }
   ],
   "source": [
    "import requests\n",
    "import os\n",
    "\n",
    "url = \"https://www.deribit.com/api/v2/public/auth\"\n",
    "\n",
    "print(f\"connecting with {os.getenv('DERIBIT_CLIENT_ID')}\")\n",
    "\n",
    "params = {\n",
    "    \"client_id\": os.getenv(\"DERIBIT_CLIENT_ID\"),\n",
    "    \"client_secret\": os.getenv(\"DERIBIT_CLIENT_SECRET\"),\n",
    "    \"grant_type\": \"client_credentials\"\n",
    "}\n",
    "\n",
    "headers = {\"Content-Type\": \"application/json\"}\n",
    "\n",
    "response = requests.get(url, params=params, headers=headers)\n",
    "\n",
    "print(response.text)"
   ]
  }
 ],
 "metadata": {
  "kernelspec": {
   "display_name": "Python 3",
   "language": "python",
   "name": "python3"
  },
  "language_info": {
   "codemirror_mode": {
    "name": "ipython",
    "version": 3
   },
   "file_extension": ".py",
   "mimetype": "text/x-python",
   "name": "python",
   "nbconvert_exporter": "python",
   "pygments_lexer": "ipython3",
   "version": "3.10.13"
  }
 },
 "nbformat": 4,
 "nbformat_minor": 2
}
